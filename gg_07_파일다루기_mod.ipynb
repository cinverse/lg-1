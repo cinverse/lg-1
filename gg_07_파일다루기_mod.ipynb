{
  "nbformat": 4,
  "nbformat_minor": 0,
  "metadata": {
    "colab": {
      "name": "gg-07-파일다루기_mod.ipynb",
      "version": "0.3.2",
      "provenance": [],
      "include_colab_link": true
    },
    "kernelspec": {
      "name": "python3",
      "display_name": "Python 3"
    },
    "accelerator": "GPU"
  },
  "cells": [
    {
      "cell_type": "markdown",
      "metadata": {
        "id": "view-in-github",
        "colab_type": "text"
      },
      "source": [
        "<a href=\"https://colab.research.google.com/github/cinverse/lg-1/blob/master/gg_07_%ED%8C%8C%EC%9D%BC%EB%8B%A4%EB%A3%A8%EA%B8%B0_mod.ipynb\" target=\"_parent\"><img src=\"https://colab.research.google.com/assets/colab-badge.svg\" alt=\"Open In Colab\"/></a>"
      ]
    },
    {
      "metadata": {
        "id": "eXLeb7sLmQkb",
        "colab_type": "text"
      },
      "cell_type": "markdown",
      "source": [
        "## 파일 생성"
      ]
    },
    {
      "metadata": {
        "id": "Z4KfxQVgmQke",
        "colab_type": "code",
        "colab": {}
      },
      "cell_type": "code",
      "source": [
        "from pandas import DataFrame, Series \n",
        "import pandas as pd \n",
        "\n",
        "f = open(\"test.csv\", \"w\")\n",
        "f.write(\"1,2,3,4,5 \\n\")\n",
        "f.close()"
      ],
      "execution_count": 0,
      "outputs": []
    },
    {
      "metadata": {
        "id": "jKzQ7OyTmQkk",
        "colab_type": "code",
        "outputId": "cbf5a1f4-25de-4f58-f07c-97d0d13c5f86",
        "colab": {}
      },
      "cell_type": "code",
      "source": [
        "!cat test.csv"
      ],
      "execution_count": 0,
      "outputs": [
        {
          "output_type": "stream",
          "text": [
            "1,2,3,4,5 \r\n"
          ],
          "name": "stdout"
        }
      ]
    },
    {
      "metadata": {
        "id": "l-wDm_uYmQkp",
        "colab_type": "code",
        "colab": {}
      },
      "cell_type": "code",
      "source": [
        "with open(\"test.csv\", \"a\") as f:\n",
        "    f.write(\"1,2,3,4,5 \\n\")\n",
        "    f.write(\"1,2,3,4,5 \\n\")"
      ],
      "execution_count": 0,
      "outputs": []
    },
    {
      "metadata": {
        "id": "6BKNI082mQks",
        "colab_type": "code",
        "outputId": "c5452c04-5518-442a-a46c-aac596a31773",
        "colab": {}
      },
      "cell_type": "code",
      "source": [
        "!cat test.csv"
      ],
      "execution_count": 0,
      "outputs": [
        {
          "output_type": "stream",
          "text": [
            "1,2,3,4,5 \r\n",
            "1,2,3,4,5 \r\n",
            "1,2,3,4,5 \r\n"
          ],
          "name": "stdout"
        }
      ]
    },
    {
      "metadata": {
        "id": "PG_oseXYmQkw",
        "colab_type": "code",
        "outputId": "474c777e-2f95-4dcf-82ee-d16b6d4da9d5",
        "colab": {}
      },
      "cell_type": "code",
      "source": [
        "with open(\"test.csv\",'r') as f:\n",
        "    for line in f:\n",
        "        print(line, end = '')"
      ],
      "execution_count": 0,
      "outputs": [
        {
          "output_type": "stream",
          "text": [
            "1,2,3,4,5 \n",
            "1,2,3,4,5 \n",
            "1,2,3,4,5 \n"
          ],
          "name": "stdout"
        }
      ]
    },
    {
      "metadata": {
        "id": "s9v_ZmNLmQk1",
        "colab_type": "text"
      },
      "cell_type": "markdown",
      "source": [
        "## 옵션\n",
        "'r'\tOpen a file for reading. (default)  \n",
        "'w'\tOpen a file for writing. Creates a new file if it does not exist or truncates the file if it exists.  \n",
        "'x'\tOpen a file for exclusive creation. If the file already exists, the operation fails.  \n",
        "'a'\tOpen for appending at the end of the file without truncating it.   Creates a new file if it does not exist.\n",
        "'t'\tOpen in text mode. (default)  \n",
        "'b'\tOpen in binary mode.  \n",
        "'+'\tOpen a file for updating (reading and writing)  "
      ]
    },
    {
      "metadata": {
        "id": "n8l_3TNnmQk2",
        "colab_type": "code",
        "colab": {}
      },
      "cell_type": "code",
      "source": [
        "with open(\"test.csv\", \"w\") as f:\n",
        "    f.write(\"a,b,c,d,message \\n\")\n",
        "    f.write(\"1,2,3,4,hello \\n\")\n",
        "    f.write(\"5,6,7,8,world \\n\")\n",
        "    f.write(\"9,10,11,12,foo \\n\")"
      ],
      "execution_count": 0,
      "outputs": []
    },
    {
      "metadata": {
        "id": "s20HVJGcmQk5",
        "colab_type": "code",
        "outputId": "cc309dc6-79d3-4b58-d6b8-2a20774b4a78",
        "colab": {}
      },
      "cell_type": "code",
      "source": [
        "!cat test.csv"
      ],
      "execution_count": 0,
      "outputs": [
        {
          "output_type": "stream",
          "text": [
            "a,b,c,d,message \r\n",
            "1,2,3,4,hello \r\n",
            "5,6,7,8,world \r\n",
            "9,10,11,12,foo \r\n"
          ],
          "name": "stdout"
        }
      ]
    },
    {
      "metadata": {
        "id": "JDySKkjOmQk9",
        "colab_type": "code",
        "outputId": "41b493c2-25fa-45d3-b3df-7603f066c8d1",
        "colab": {}
      },
      "cell_type": "code",
      "source": [
        "pd.read_csv('test.csv')  # 자동으로 컬럼명을 만든다"
      ],
      "execution_count": 0,
      "outputs": [
        {
          "output_type": "execute_result",
          "data": {
            "text/html": [
              "<div>\n",
              "<style scoped>\n",
              "    .dataframe tbody tr th:only-of-type {\n",
              "        vertical-align: middle;\n",
              "    }\n",
              "\n",
              "    .dataframe tbody tr th {\n",
              "        vertical-align: top;\n",
              "    }\n",
              "\n",
              "    .dataframe thead th {\n",
              "        text-align: right;\n",
              "    }\n",
              "</style>\n",
              "<table border=\"1\" class=\"dataframe\">\n",
              "  <thead>\n",
              "    <tr style=\"text-align: right;\">\n",
              "      <th></th>\n",
              "      <th>a</th>\n",
              "      <th>b</th>\n",
              "      <th>c</th>\n",
              "      <th>d</th>\n",
              "      <th>message</th>\n",
              "    </tr>\n",
              "  </thead>\n",
              "  <tbody>\n",
              "    <tr>\n",
              "      <th>0</th>\n",
              "      <td>1</td>\n",
              "      <td>2</td>\n",
              "      <td>3</td>\n",
              "      <td>4</td>\n",
              "      <td>hello</td>\n",
              "    </tr>\n",
              "    <tr>\n",
              "      <th>1</th>\n",
              "      <td>5</td>\n",
              "      <td>6</td>\n",
              "      <td>7</td>\n",
              "      <td>8</td>\n",
              "      <td>world</td>\n",
              "    </tr>\n",
              "    <tr>\n",
              "      <th>2</th>\n",
              "      <td>9</td>\n",
              "      <td>10</td>\n",
              "      <td>11</td>\n",
              "      <td>12</td>\n",
              "      <td>foo</td>\n",
              "    </tr>\n",
              "  </tbody>\n",
              "</table>\n",
              "</div>"
            ],
            "text/plain": [
              "   a   b   c   d message \n",
              "0  1   2   3   4   hello \n",
              "1  5   6   7   8   world \n",
              "2  9  10  11  12     foo "
            ]
          },
          "metadata": {
            "tags": []
          },
          "execution_count": 34
        }
      ]
    },
    {
      "metadata": {
        "id": "21rXJyBRmQlE",
        "colab_type": "code",
        "outputId": "9cde4f15-9a92-416e-ca4b-1df22bad1dc1",
        "colab": {}
      },
      "cell_type": "code",
      "source": [
        "pd.read_csv('test.csv', header=None)"
      ],
      "execution_count": 0,
      "outputs": [
        {
          "output_type": "execute_result",
          "data": {
            "text/html": [
              "<div>\n",
              "<style scoped>\n",
              "    .dataframe tbody tr th:only-of-type {\n",
              "        vertical-align: middle;\n",
              "    }\n",
              "\n",
              "    .dataframe tbody tr th {\n",
              "        vertical-align: top;\n",
              "    }\n",
              "\n",
              "    .dataframe thead th {\n",
              "        text-align: right;\n",
              "    }\n",
              "</style>\n",
              "<table border=\"1\" class=\"dataframe\">\n",
              "  <thead>\n",
              "    <tr style=\"text-align: right;\">\n",
              "      <th></th>\n",
              "      <th>0</th>\n",
              "      <th>1</th>\n",
              "      <th>2</th>\n",
              "      <th>3</th>\n",
              "      <th>4</th>\n",
              "    </tr>\n",
              "  </thead>\n",
              "  <tbody>\n",
              "    <tr>\n",
              "      <th>0</th>\n",
              "      <td>a</td>\n",
              "      <td>b</td>\n",
              "      <td>c</td>\n",
              "      <td>d</td>\n",
              "      <td>message</td>\n",
              "    </tr>\n",
              "    <tr>\n",
              "      <th>1</th>\n",
              "      <td>1</td>\n",
              "      <td>2</td>\n",
              "      <td>3</td>\n",
              "      <td>4</td>\n",
              "      <td>hello</td>\n",
              "    </tr>\n",
              "    <tr>\n",
              "      <th>2</th>\n",
              "      <td>5</td>\n",
              "      <td>6</td>\n",
              "      <td>7</td>\n",
              "      <td>8</td>\n",
              "      <td>world</td>\n",
              "    </tr>\n",
              "    <tr>\n",
              "      <th>3</th>\n",
              "      <td>9</td>\n",
              "      <td>10</td>\n",
              "      <td>11</td>\n",
              "      <td>12</td>\n",
              "      <td>foo</td>\n",
              "    </tr>\n",
              "  </tbody>\n",
              "</table>\n",
              "</div>"
            ],
            "text/plain": [
              "   0   1   2   3         4\n",
              "0  a   b   c   d  message \n",
              "1  1   2   3   4    hello \n",
              "2  5   6   7   8    world \n",
              "3  9  10  11  12      foo "
            ]
          },
          "metadata": {
            "tags": []
          },
          "execution_count": 35
        }
      ]
    },
    {
      "metadata": {
        "id": "nIEg4QTXmQlI",
        "colab_type": "code",
        "outputId": "fe852f94-f7e7-476c-f9ea-741e6a34384b",
        "colab": {}
      },
      "cell_type": "code",
      "source": [
        "pd.read_csv('test.csv', header=1) "
      ],
      "execution_count": 0,
      "outputs": [
        {
          "output_type": "execute_result",
          "data": {
            "text/html": [
              "<div>\n",
              "<style scoped>\n",
              "    .dataframe tbody tr th:only-of-type {\n",
              "        vertical-align: middle;\n",
              "    }\n",
              "\n",
              "    .dataframe tbody tr th {\n",
              "        vertical-align: top;\n",
              "    }\n",
              "\n",
              "    .dataframe thead th {\n",
              "        text-align: right;\n",
              "    }\n",
              "</style>\n",
              "<table border=\"1\" class=\"dataframe\">\n",
              "  <thead>\n",
              "    <tr style=\"text-align: right;\">\n",
              "      <th></th>\n",
              "      <th>1</th>\n",
              "      <th>2</th>\n",
              "      <th>3</th>\n",
              "      <th>4</th>\n",
              "      <th>hello</th>\n",
              "    </tr>\n",
              "  </thead>\n",
              "  <tbody>\n",
              "    <tr>\n",
              "      <th>0</th>\n",
              "      <td>5</td>\n",
              "      <td>6</td>\n",
              "      <td>7</td>\n",
              "      <td>8</td>\n",
              "      <td>world</td>\n",
              "    </tr>\n",
              "    <tr>\n",
              "      <th>1</th>\n",
              "      <td>9</td>\n",
              "      <td>10</td>\n",
              "      <td>11</td>\n",
              "      <td>12</td>\n",
              "      <td>foo</td>\n",
              "    </tr>\n",
              "  </tbody>\n",
              "</table>\n",
              "</div>"
            ],
            "text/plain": [
              "   1   2   3   4  hello \n",
              "0  5   6   7   8  world \n",
              "1  9  10  11  12    foo "
            ]
          },
          "metadata": {
            "tags": []
          },
          "execution_count": 36
        }
      ]
    },
    {
      "metadata": {
        "id": "rzJndHxJmQlM",
        "colab_type": "code",
        "outputId": "9e0a49ac-3756-406c-a516-bdd35377db03",
        "colab": {}
      },
      "cell_type": "code",
      "source": [
        "pd.read_csv('test.csv', names=['A','B','C','D','E'])"
      ],
      "execution_count": 0,
      "outputs": [
        {
          "output_type": "execute_result",
          "data": {
            "text/html": [
              "<div>\n",
              "<style scoped>\n",
              "    .dataframe tbody tr th:only-of-type {\n",
              "        vertical-align: middle;\n",
              "    }\n",
              "\n",
              "    .dataframe tbody tr th {\n",
              "        vertical-align: top;\n",
              "    }\n",
              "\n",
              "    .dataframe thead th {\n",
              "        text-align: right;\n",
              "    }\n",
              "</style>\n",
              "<table border=\"1\" class=\"dataframe\">\n",
              "  <thead>\n",
              "    <tr style=\"text-align: right;\">\n",
              "      <th></th>\n",
              "      <th>A</th>\n",
              "      <th>B</th>\n",
              "      <th>C</th>\n",
              "      <th>D</th>\n",
              "      <th>E</th>\n",
              "    </tr>\n",
              "  </thead>\n",
              "  <tbody>\n",
              "    <tr>\n",
              "      <th>0</th>\n",
              "      <td>a</td>\n",
              "      <td>b</td>\n",
              "      <td>c</td>\n",
              "      <td>d</td>\n",
              "      <td>message</td>\n",
              "    </tr>\n",
              "    <tr>\n",
              "      <th>1</th>\n",
              "      <td>1</td>\n",
              "      <td>2</td>\n",
              "      <td>3</td>\n",
              "      <td>4</td>\n",
              "      <td>hello</td>\n",
              "    </tr>\n",
              "    <tr>\n",
              "      <th>2</th>\n",
              "      <td>5</td>\n",
              "      <td>6</td>\n",
              "      <td>7</td>\n",
              "      <td>8</td>\n",
              "      <td>world</td>\n",
              "    </tr>\n",
              "    <tr>\n",
              "      <th>3</th>\n",
              "      <td>9</td>\n",
              "      <td>10</td>\n",
              "      <td>11</td>\n",
              "      <td>12</td>\n",
              "      <td>foo</td>\n",
              "    </tr>\n",
              "  </tbody>\n",
              "</table>\n",
              "</div>"
            ],
            "text/plain": [
              "   A   B   C   D         E\n",
              "0  a   b   c   d  message \n",
              "1  1   2   3   4    hello \n",
              "2  5   6   7   8    world \n",
              "3  9  10  11  12      foo "
            ]
          },
          "metadata": {
            "tags": []
          },
          "execution_count": 37
        }
      ]
    },
    {
      "metadata": {
        "id": "0h9GEWJYmQlQ",
        "colab_type": "code",
        "outputId": "44d00670-e0d8-4b55-fbc6-086856382dd8",
        "colab": {}
      },
      "cell_type": "code",
      "source": [
        "!cat test.csv"
      ],
      "execution_count": 0,
      "outputs": [
        {
          "output_type": "stream",
          "text": [
            "a,b,c,d,message \r\n",
            "1,2,3,4,hello \r\n",
            "5,6,7,8,world \r\n",
            "9,10,11,12,foo \r\n"
          ],
          "name": "stdout"
        }
      ]
    },
    {
      "metadata": {
        "id": "_uCUoJhQmQlV",
        "colab_type": "code",
        "outputId": "b30f734c-50d6-4dbc-cbdd-e10590fbd339",
        "colab": {}
      },
      "cell_type": "code",
      "source": [
        "pd.read_csv('test.csv', nrows=2)\n",
        "# pd.read_csv('data/ex1.csv', index_col='message')"
      ],
      "execution_count": 0,
      "outputs": [
        {
          "output_type": "execute_result",
          "data": {
            "text/html": [
              "<div>\n",
              "<style scoped>\n",
              "    .dataframe tbody tr th:only-of-type {\n",
              "        vertical-align: middle;\n",
              "    }\n",
              "\n",
              "    .dataframe tbody tr th {\n",
              "        vertical-align: top;\n",
              "    }\n",
              "\n",
              "    .dataframe thead th {\n",
              "        text-align: right;\n",
              "    }\n",
              "</style>\n",
              "<table border=\"1\" class=\"dataframe\">\n",
              "  <thead>\n",
              "    <tr style=\"text-align: right;\">\n",
              "      <th></th>\n",
              "      <th>a</th>\n",
              "      <th>b</th>\n",
              "      <th>c</th>\n",
              "      <th>d</th>\n",
              "      <th>message</th>\n",
              "    </tr>\n",
              "  </thead>\n",
              "  <tbody>\n",
              "    <tr>\n",
              "      <th>0</th>\n",
              "      <td>1</td>\n",
              "      <td>2</td>\n",
              "      <td>3</td>\n",
              "      <td>4</td>\n",
              "      <td>hello</td>\n",
              "    </tr>\n",
              "    <tr>\n",
              "      <th>1</th>\n",
              "      <td>5</td>\n",
              "      <td>6</td>\n",
              "      <td>7</td>\n",
              "      <td>8</td>\n",
              "      <td>world</td>\n",
              "    </tr>\n",
              "  </tbody>\n",
              "</table>\n",
              "</div>"
            ],
            "text/plain": [
              "   a  b  c  d message \n",
              "0  1  2  3  4   hello \n",
              "1  5  6  7  8   world "
            ]
          },
          "metadata": {
            "tags": []
          },
          "execution_count": 39
        }
      ]
    },
    {
      "metadata": {
        "id": "IuI6GGGBmQlZ",
        "colab_type": "code",
        "outputId": "9db7f3f0-f990-4015-e7e5-9cbd867629d7",
        "colab": {}
      },
      "cell_type": "code",
      "source": [
        "df = pd.read_csv('test.csv')\n",
        "df"
      ],
      "execution_count": 0,
      "outputs": [
        {
          "output_type": "execute_result",
          "data": {
            "text/html": [
              "<div>\n",
              "<style scoped>\n",
              "    .dataframe tbody tr th:only-of-type {\n",
              "        vertical-align: middle;\n",
              "    }\n",
              "\n",
              "    .dataframe tbody tr th {\n",
              "        vertical-align: top;\n",
              "    }\n",
              "\n",
              "    .dataframe thead th {\n",
              "        text-align: right;\n",
              "    }\n",
              "</style>\n",
              "<table border=\"1\" class=\"dataframe\">\n",
              "  <thead>\n",
              "    <tr style=\"text-align: right;\">\n",
              "      <th></th>\n",
              "      <th>a</th>\n",
              "      <th>b</th>\n",
              "      <th>c</th>\n",
              "      <th>d</th>\n",
              "      <th>message</th>\n",
              "    </tr>\n",
              "  </thead>\n",
              "  <tbody>\n",
              "    <tr>\n",
              "      <th>0</th>\n",
              "      <td>1</td>\n",
              "      <td>2</td>\n",
              "      <td>3</td>\n",
              "      <td>4</td>\n",
              "      <td>hello</td>\n",
              "    </tr>\n",
              "    <tr>\n",
              "      <th>1</th>\n",
              "      <td>5</td>\n",
              "      <td>6</td>\n",
              "      <td>7</td>\n",
              "      <td>8</td>\n",
              "      <td>world</td>\n",
              "    </tr>\n",
              "    <tr>\n",
              "      <th>2</th>\n",
              "      <td>9</td>\n",
              "      <td>10</td>\n",
              "      <td>11</td>\n",
              "      <td>12</td>\n",
              "      <td>foo</td>\n",
              "    </tr>\n",
              "  </tbody>\n",
              "</table>\n",
              "</div>"
            ],
            "text/plain": [
              "   a   b   c   d message \n",
              "0  1   2   3   4   hello \n",
              "1  5   6   7   8   world \n",
              "2  9  10  11  12     foo "
            ]
          },
          "metadata": {
            "tags": []
          },
          "execution_count": 40
        }
      ]
    },
    {
      "metadata": {
        "id": "KyQgeBrwmQld",
        "colab_type": "code",
        "colab": {}
      },
      "cell_type": "code",
      "source": [
        "df.to_csv('output.csv')"
      ],
      "execution_count": 0,
      "outputs": []
    },
    {
      "metadata": {
        "id": "8sEGhpkRmQlh",
        "colab_type": "code",
        "outputId": "48e06678-d14f-4e08-acc9-a09e951a5a4a",
        "colab": {}
      },
      "cell_type": "code",
      "source": [
        "!cat output.csv"
      ],
      "execution_count": 0,
      "outputs": [
        {
          "output_type": "stream",
          "text": [
            ",a,b,c,d,message \r\n",
            "0,1,2,3,4,hello \r\n",
            "1,5,6,7,8,world \r\n",
            "2,9,10,11,12,foo \r\n"
          ],
          "name": "stdout"
        }
      ]
    },
    {
      "metadata": {
        "id": "zs4yJeZemQlo",
        "colab_type": "text"
      },
      "cell_type": "markdown",
      "source": [
        "## 디렉토리"
      ]
    },
    {
      "metadata": {
        "id": "hhBwOLKHmQlp",
        "colab_type": "code",
        "outputId": "7310f808-ef69-4f36-b550-f451cb5d45d4",
        "colab": {}
      },
      "cell_type": "code",
      "source": [
        "import os\n",
        "os.getcwd()"
      ],
      "execution_count": 0,
      "outputs": [
        {
          "output_type": "execute_result",
          "data": {
            "text/plain": [
              "'/Users/hwa-jongkim/Dropbox/data-science'"
            ]
          },
          "metadata": {
            "tags": []
          },
          "execution_count": 43
        }
      ]
    },
    {
      "metadata": {
        "id": "QWF7B-dumQlu",
        "colab_type": "code",
        "outputId": "da3229b7-8dc5-4eb4-d22b-2f9aa3b71624",
        "colab": {}
      },
      "cell_type": "code",
      "source": [
        "os.chdir('/Users/hwa-jongkim/Dropbox/data-science/data-science-all')\n",
        "os.getcwd()"
      ],
      "execution_count": 0,
      "outputs": [
        {
          "output_type": "execute_result",
          "data": {
            "text/plain": [
              "'/Users/hwa-jongkim/Dropbox/data-science/data-science-all'"
            ]
          },
          "metadata": {
            "tags": []
          },
          "execution_count": 44
        }
      ]
    },
    {
      "metadata": {
        "id": "RsNTPU19mQly",
        "colab_type": "code",
        "outputId": "e94d4b1d-6d5b-4480-f140-43c20a98bd06",
        "colab": {}
      },
      "cell_type": "code",
      "source": [
        "os.listdir()"
      ],
      "execution_count": 0,
      "outputs": [
        {
          "output_type": "execute_result",
          "data": {
            "text/plain": [
              "['u7_taxi_read.ipynb',\n",
              " 'u7_타이타닉예측DecisionTree.ipynb',\n",
              " 'u3_비지도학습(mg_3).ipynb',\n",
              " 'u7_자전거예측_하이퍼파라미터튜닝.ipynb',\n",
              " 'u2_데이터크롤링(kusi).ipynb',\n",
              " 'v3-3지도학습-SVM(mg2).ipynb',\n",
              " 'u7_시계열분석_항공기이용승객수_LSTM(권혁민).ipynb',\n",
              " 'u2_데이터읽기.ipynb',\n",
              " 'v1-2파이선기초문법.ipynb',\n",
              " 'u7_테러발생데이터_시각화(이덕주).ipynb',\n",
              " 'u6_MNIST_딥러닝(Tut).ipynb',\n",
              " 'preamble.py',\n",
              " 'u2_데이터읽기_탐색.ipynb',\n",
              " 'w1-Python-intro.ipynb',\n",
              " 'w5-handson-intro.ipynb',\n",
              " 'v1-3Numpy-practice.ipynb',\n",
              " 'u3_다차원_차원선택_과적합_K폴드(NYU).ipynb',\n",
              " 'u4_클러스터링_KMeans.ipynb',\n",
              " 'v1-practice-1.ipynb',\n",
              " '.DS_Store',\n",
              " 'u5_이름성별예측_베이시언.ipynb',\n",
              " 'u6_신경망첫걸음%28NYU%29.ipynb',\n",
              " 'u5_뉴스분석(영어).ipynb',\n",
              " 'v1-7기계학습개념(mg-1).ipynb',\n",
              " 'u3_선형회귀분석예제_전력생산량.ipynb',\n",
              " 'u3_회귀분석_자동차연비(NYU).ipynb',\n",
              " 'cache',\n",
              " 'u6_MNIST선형모델(HVA).ipynb',\n",
              " 'u1_데이터로드_상세.ipynb',\n",
              " 'u6_Estimator_데이터입력_보스턴(Tut).ipynb',\n",
              " 'u2_스크레이핑(BeautifulSoup).ipynb',\n",
              " 'v3-1지도학습개요-의사결정나무(mg2).ipynb',\n",
              " 'u3_PCA_3차원시각화.ipynb',\n",
              " 'mytree.dot',\n",
              " 'u6_RNN_스팸필터.ipynb',\n",
              " 'v1.zip',\n",
              " 'u7_타이타닉_시각화_Seaborn.ipynb',\n",
              " 'u6_신경망_소개_mglearn.ipynb',\n",
              " 'u7_금융_시계열분석(김혜숙).ipynb',\n",
              " 'tmp.png',\n",
              " 'u5_트위터분석(영어).ipynb',\n",
              " 'u3_로지스틱회귀분석_GPA.ipynb',\n",
              " 'u4_클러스터링_자동차_운동선수.ipynb',\n",
              " 'u3_모델파이프라인(mg_6).ipynb',\n",
              " 'u6_CNN_축구선수얼굴인식.ipynb',\n",
              " 'u7_병원예약이행_예측(한주석).ipynb',\n",
              " 'u6_CNN_MNIST.ipynb',\n",
              " 'u1_데이터프레임_추가연습.ipynb',\n",
              " 'test.csv',\n",
              " 'u4_특성공학.ipynb',\n",
              " 'u5_스팸메일_나이브베이어스.ipynb',\n",
              " 'u2_데이터시각화_기초.ipynb',\n",
              " 'u7_바이크_그리드서치_최적화.ipynb',\n",
              " 'w3-Pandas.ipynb',\n",
              " 'u3_SVM_MNIST(NYU).ipynb',\n",
              " 'u5_텍스트처리_기초_NLTK.ipynb',\n",
              " 'gg-파일다루기.ipynb',\n",
              " '__pycache__',\n",
              " 'u5_텍스트데이터전처리(영어).ipynb',\n",
              " 'v1-1강의소개.ipynb',\n",
              " 'u4_클러스터링_보성군날씨.ipynb',\n",
              " 'u7_텐서플로_기초.ipynb',\n",
              " 'u7_타이타닉_기본.ipynb',\n",
              " 'u7_타이타닉_기본-Copy1.ipynb',\n",
              " 'output.csv',\n",
              " 'u5_영화평가_영어_보충.ipynb',\n",
              " 'u3_회귀분석_다중_당뇨(NYU).ipynb',\n",
              " ' gg-이름성별예측-베이즈.ipynb',\n",
              " 'u6_텐서플로우_워드벡터(Tut).ipynb',\n",
              " 'u6_Estimator_기초_붓꽃(Tut).ipynb',\n",
              " 'u7_미국_테러발생데이터_시각화(이덕주).ipynb',\n",
              " 'u3_의사결정나무_중요변수출력.ipynb',\n",
              " 'u5_한글형태소분석.ipynb',\n",
              " 'u4_회귀분석_항공사승객예측.ipynb',\n",
              " 'u7_자전거대여예측.ipynb',\n",
              " 'u6_MNIST_기본(Tut).ipynb',\n",
              " 'u6_딥러닝개요(HVA).ipynb',\n",
              " 'u5_텍스트분석기초(mg_7).ipynb',\n",
              " 'u7_Kaggle소개.ipynb',\n",
              " 'v1-3Numpy-practice-sol.ipynb',\n",
              " 'gg-데이터로드.ipynb',\n",
              " 'u5_텍스트분석응용-2.ipynb',\n",
              " 'v1-4-Pandas.ipynb',\n",
              " 'u7_항공지연예측.ipynb',\n",
              " 'v1-3파이선-어레이.ipynb',\n",
              " 'u3_모델성능평가(mg_5)-Copy1.ipynb',\n",
              " 'w2-Numpy.ipynb',\n",
              " 'u6_cat_vs_dog.ipynb',\n",
              " 'u3_로지스틱회귀_유방암.ipynb',\n",
              " 'u7_항공지연예측_2.ipynb',\n",
              " 'u5_Word2Vec.ipynb',\n",
              " 'v1-5-data-frame.ipynb',\n",
              " 'test.txt',\n",
              " '.ipynb_checkpoints',\n",
              " 'u2_시각화기법_상세.ipynb',\n",
              " 'u7_MNIST_1.ipynb',\n",
              " 'u2_데이터전처리_상세.ipynb',\n",
              " 'u3_로지스틱_유방암(NYU).ipynb',\n",
              " 'v1-3Numpy.ipynb',\n",
              " 'u6_텐서플로시작(Tut).ipynb',\n",
              " 'u3_선형회귀분석예제_국제항공사승객.ipynb',\n",
              " 'w4-EDA.ipynb',\n",
              " 'u2_웹페이지전체다운로드.ipynb',\n",
              " 'u2_데이터로드_DB.ipynb',\n",
              " 'u7_병원예약_나이브베이어스.ipynb',\n",
              " 'data',\n",
              " 'u7_자전거대여예측_시각화.ipynb',\n",
              " 'tmp',\n",
              " 'v3-2지도학습-선형회귀(mg2).ipynb',\n",
              " 'u2_웹API.ipynb',\n",
              " 'u5_영화평가_영어.ipynb',\n",
              " 'u6_이미지넷_기초(Tut).ipynb',\n",
              " 'taxi.zip',\n",
              " 'mglearn',\n",
              " 'v1-6데이터프레임-고급 (유니코드 인코딩 충돌).ipynb',\n",
              " 'tree.dot',\n",
              " 'u3_모델성능평가(mg_5).ipynb']"
            ]
          },
          "metadata": {
            "tags": []
          },
          "execution_count": 45
        }
      ]
    },
    {
      "metadata": {
        "id": "yfSjqonbmQl8",
        "colab_type": "code",
        "colab": {}
      },
      "cell_type": "code",
      "source": [
        "os.mkdir('test')"
      ],
      "execution_count": 0,
      "outputs": []
    },
    {
      "metadata": {
        "id": "HThHQltJmQl_",
        "colab_type": "code",
        "outputId": "e2297084-6271-4c34-bb7d-b2e970819374",
        "colab": {}
      },
      "cell_type": "code",
      "source": [
        "os.listdir()"
      ],
      "execution_count": 0,
      "outputs": [
        {
          "output_type": "execute_result",
          "data": {
            "text/plain": [
              "['u7_taxi_read.ipynb',\n",
              " 'u7_타이타닉예측DecisionTree.ipynb',\n",
              " 'u3_비지도학습(mg_3).ipynb',\n",
              " 'u7_자전거예측_하이퍼파라미터튜닝.ipynb',\n",
              " 'u2_데이터크롤링(kusi).ipynb',\n",
              " 'v3-3지도학습-SVM(mg2).ipynb',\n",
              " 'u7_시계열분석_항공기이용승객수_LSTM(권혁민).ipynb',\n",
              " 'u2_데이터읽기.ipynb',\n",
              " 'v1-2파이선기초문법.ipynb',\n",
              " 'u7_테러발생데이터_시각화(이덕주).ipynb',\n",
              " 'u6_MNIST_딥러닝(Tut).ipynb',\n",
              " 'preamble.py',\n",
              " 'u2_데이터읽기_탐색.ipynb',\n",
              " 'w1-Python-intro.ipynb',\n",
              " 'w5-handson-intro.ipynb',\n",
              " 'v1-3Numpy-practice.ipynb',\n",
              " 'u3_다차원_차원선택_과적합_K폴드(NYU).ipynb',\n",
              " 'u4_클러스터링_KMeans.ipynb',\n",
              " 'v1-practice-1.ipynb',\n",
              " '.DS_Store',\n",
              " 'u5_이름성별예측_베이시언.ipynb',\n",
              " 'u6_신경망첫걸음%28NYU%29.ipynb',\n",
              " 'u5_뉴스분석(영어).ipynb',\n",
              " 'v1-7기계학습개념(mg-1).ipynb',\n",
              " 'u3_선형회귀분석예제_전력생산량.ipynb',\n",
              " 'u3_회귀분석_자동차연비(NYU).ipynb',\n",
              " 'cache',\n",
              " 'u6_MNIST선형모델(HVA).ipynb',\n",
              " 'u1_데이터로드_상세.ipynb',\n",
              " 'u6_Estimator_데이터입력_보스턴(Tut).ipynb',\n",
              " 'u2_스크레이핑(BeautifulSoup).ipynb',\n",
              " 'test',\n",
              " 'v3-1지도학습개요-의사결정나무(mg2).ipynb',\n",
              " 'u3_PCA_3차원시각화.ipynb',\n",
              " 'mytree.dot',\n",
              " 'u6_RNN_스팸필터.ipynb',\n",
              " 'v1.zip',\n",
              " 'u7_타이타닉_시각화_Seaborn.ipynb',\n",
              " 'u6_신경망_소개_mglearn.ipynb',\n",
              " 'u7_금융_시계열분석(김혜숙).ipynb',\n",
              " 'tmp.png',\n",
              " 'u5_트위터분석(영어).ipynb',\n",
              " 'u3_로지스틱회귀분석_GPA.ipynb',\n",
              " 'u4_클러스터링_자동차_운동선수.ipynb',\n",
              " 'u3_모델파이프라인(mg_6).ipynb',\n",
              " 'u6_CNN_축구선수얼굴인식.ipynb',\n",
              " 'u7_병원예약이행_예측(한주석).ipynb',\n",
              " 'u6_CNN_MNIST.ipynb',\n",
              " 'u1_데이터프레임_추가연습.ipynb',\n",
              " 'test.csv',\n",
              " 'u4_특성공학.ipynb',\n",
              " 'u5_스팸메일_나이브베이어스.ipynb',\n",
              " 'u2_데이터시각화_기초.ipynb',\n",
              " 'u7_바이크_그리드서치_최적화.ipynb',\n",
              " 'w3-Pandas.ipynb',\n",
              " 'u3_SVM_MNIST(NYU).ipynb',\n",
              " 'u5_텍스트처리_기초_NLTK.ipynb',\n",
              " 'gg-파일다루기.ipynb',\n",
              " '__pycache__',\n",
              " 'u5_텍스트데이터전처리(영어).ipynb',\n",
              " 'v1-1강의소개.ipynb',\n",
              " 'u4_클러스터링_보성군날씨.ipynb',\n",
              " 'u7_텐서플로_기초.ipynb',\n",
              " 'u7_타이타닉_기본.ipynb',\n",
              " 'u7_타이타닉_기본-Copy1.ipynb',\n",
              " 'output.csv',\n",
              " 'u5_영화평가_영어_보충.ipynb',\n",
              " 'u3_회귀분석_다중_당뇨(NYU).ipynb',\n",
              " ' gg-이름성별예측-베이즈.ipynb',\n",
              " 'u6_텐서플로우_워드벡터(Tut).ipynb',\n",
              " 'u6_Estimator_기초_붓꽃(Tut).ipynb',\n",
              " 'u7_미국_테러발생데이터_시각화(이덕주).ipynb',\n",
              " 'u3_의사결정나무_중요변수출력.ipynb',\n",
              " 'u5_한글형태소분석.ipynb',\n",
              " 'u4_회귀분석_항공사승객예측.ipynb',\n",
              " 'u7_자전거대여예측.ipynb',\n",
              " 'u6_MNIST_기본(Tut).ipynb',\n",
              " 'u6_딥러닝개요(HVA).ipynb',\n",
              " 'u5_텍스트분석기초(mg_7).ipynb',\n",
              " 'u7_Kaggle소개.ipynb',\n",
              " 'v1-3Numpy-practice-sol.ipynb',\n",
              " 'gg-데이터로드.ipynb',\n",
              " 'u5_텍스트분석응용-2.ipynb',\n",
              " 'v1-4-Pandas.ipynb',\n",
              " 'u7_항공지연예측.ipynb',\n",
              " 'v1-3파이선-어레이.ipynb',\n",
              " 'u3_모델성능평가(mg_5)-Copy1.ipynb',\n",
              " 'w2-Numpy.ipynb',\n",
              " 'u6_cat_vs_dog.ipynb',\n",
              " 'u3_로지스틱회귀_유방암.ipynb',\n",
              " 'u7_항공지연예측_2.ipynb',\n",
              " 'u5_Word2Vec.ipynb',\n",
              " 'v1-5-data-frame.ipynb',\n",
              " 'test.txt',\n",
              " '.ipynb_checkpoints',\n",
              " 'u2_시각화기법_상세.ipynb',\n",
              " 'u7_MNIST_1.ipynb',\n",
              " 'u2_데이터전처리_상세.ipynb',\n",
              " 'u3_로지스틱_유방암(NYU).ipynb',\n",
              " 'v1-3Numpy.ipynb',\n",
              " 'u6_텐서플로시작(Tut).ipynb',\n",
              " 'u3_선형회귀분석예제_국제항공사승객.ipynb',\n",
              " 'w4-EDA.ipynb',\n",
              " 'u2_웹페이지전체다운로드.ipynb',\n",
              " 'u2_데이터로드_DB.ipynb',\n",
              " 'u7_병원예약_나이브베이어스.ipynb',\n",
              " 'data',\n",
              " 'u7_자전거대여예측_시각화.ipynb',\n",
              " 'tmp',\n",
              " 'v3-2지도학습-선형회귀(mg2).ipynb',\n",
              " 'u2_웹API.ipynb',\n",
              " 'u5_영화평가_영어.ipynb',\n",
              " 'u6_이미지넷_기초(Tut).ipynb',\n",
              " 'taxi.zip',\n",
              " 'mglearn',\n",
              " 'v1-6데이터프레임-고급 (유니코드 인코딩 충돌).ipynb',\n",
              " 'tree.dot',\n",
              " 'u3_모델성능평가(mg_5).ipynb']"
            ]
          },
          "metadata": {
            "tags": []
          },
          "execution_count": 47
        }
      ]
    },
    {
      "metadata": {
        "id": "-zImoL_qmQmC",
        "colab_type": "code",
        "colab": {}
      },
      "cell_type": "code",
      "source": [
        "os.rename('test','new_one')\n",
        "os.remove('output.csv')\n",
        "os.rmdir('new_one')"
      ],
      "execution_count": 0,
      "outputs": []
    },
    {
      "metadata": {
        "id": "takFhK-EmQmF",
        "colab_type": "code",
        "outputId": "129ab34d-d76a-4e2b-9b91-ed1fa18ac715",
        "colab": {}
      },
      "cell_type": "code",
      "source": [
        "os.listdir()"
      ],
      "execution_count": 0,
      "outputs": [
        {
          "output_type": "execute_result",
          "data": {
            "text/plain": [
              "['u7_taxi_read.ipynb',\n",
              " 'u7_타이타닉예측DecisionTree.ipynb',\n",
              " 'u3_비지도학습(mg_3).ipynb',\n",
              " 'u7_자전거예측_하이퍼파라미터튜닝.ipynb',\n",
              " 'u2_데이터크롤링(kusi).ipynb',\n",
              " 'v3-3지도학습-SVM(mg2).ipynb',\n",
              " 'u7_시계열분석_항공기이용승객수_LSTM(권혁민).ipynb',\n",
              " 'u2_데이터읽기.ipynb',\n",
              " 'v1-2파이선기초문법.ipynb',\n",
              " 'u7_테러발생데이터_시각화(이덕주).ipynb',\n",
              " 'u6_MNIST_딥러닝(Tut).ipynb',\n",
              " 'preamble.py',\n",
              " 'u2_데이터읽기_탐색.ipynb',\n",
              " 'w1-Python-intro.ipynb',\n",
              " 'w5-handson-intro.ipynb',\n",
              " 'v1-3Numpy-practice.ipynb',\n",
              " 'u3_다차원_차원선택_과적합_K폴드(NYU).ipynb',\n",
              " 'u4_클러스터링_KMeans.ipynb',\n",
              " 'v1-practice-1.ipynb',\n",
              " '.DS_Store',\n",
              " 'u5_이름성별예측_베이시언.ipynb',\n",
              " 'u6_신경망첫걸음%28NYU%29.ipynb',\n",
              " 'u5_뉴스분석(영어).ipynb',\n",
              " 'v1-7기계학습개념(mg-1).ipynb',\n",
              " 'u3_선형회귀분석예제_전력생산량.ipynb',\n",
              " 'u3_회귀분석_자동차연비(NYU).ipynb',\n",
              " 'cache',\n",
              " 'u6_MNIST선형모델(HVA).ipynb',\n",
              " 'u1_데이터로드_상세.ipynb',\n",
              " 'u6_Estimator_데이터입력_보스턴(Tut).ipynb',\n",
              " 'u2_스크레이핑(BeautifulSoup).ipynb',\n",
              " 'v3-1지도학습개요-의사결정나무(mg2).ipynb',\n",
              " 'u3_PCA_3차원시각화.ipynb',\n",
              " 'mytree.dot',\n",
              " 'u6_RNN_스팸필터.ipynb',\n",
              " 'v1.zip',\n",
              " 'u7_타이타닉_시각화_Seaborn.ipynb',\n",
              " 'u6_신경망_소개_mglearn.ipynb',\n",
              " 'u7_금융_시계열분석(김혜숙).ipynb',\n",
              " 'tmp.png',\n",
              " 'u5_트위터분석(영어).ipynb',\n",
              " 'u3_로지스틱회귀분석_GPA.ipynb',\n",
              " 'u4_클러스터링_자동차_운동선수.ipynb',\n",
              " 'u3_모델파이프라인(mg_6).ipynb',\n",
              " 'u6_CNN_축구선수얼굴인식.ipynb',\n",
              " 'u7_병원예약이행_예측(한주석).ipynb',\n",
              " 'u6_CNN_MNIST.ipynb',\n",
              " 'u1_데이터프레임_추가연습.ipynb',\n",
              " 'u4_특성공학.ipynb',\n",
              " 'u5_스팸메일_나이브베이어스.ipynb',\n",
              " 'u2_데이터시각화_기초.ipynb',\n",
              " 'u7_바이크_그리드서치_최적화.ipynb',\n",
              " 'w3-Pandas.ipynb',\n",
              " 'u3_SVM_MNIST(NYU).ipynb',\n",
              " 'u5_텍스트처리_기초_NLTK.ipynb',\n",
              " 'gg-파일다루기.ipynb',\n",
              " '__pycache__',\n",
              " 'u5_텍스트데이터전처리(영어).ipynb',\n",
              " 'v1-1강의소개.ipynb',\n",
              " 'u4_클러스터링_보성군날씨.ipynb',\n",
              " 'u7_텐서플로_기초.ipynb',\n",
              " 'u7_타이타닉_기본.ipynb',\n",
              " 'u7_타이타닉_기본-Copy1.ipynb',\n",
              " 'output.csv',\n",
              " 'u5_영화평가_영어_보충.ipynb',\n",
              " 'u3_회귀분석_다중_당뇨(NYU).ipynb',\n",
              " ' gg-이름성별예측-베이즈.ipynb',\n",
              " 'u6_텐서플로우_워드벡터(Tut).ipynb',\n",
              " 'u6_Estimator_기초_붓꽃(Tut).ipynb',\n",
              " 'u7_미국_테러발생데이터_시각화(이덕주).ipynb',\n",
              " 'u3_의사결정나무_중요변수출력.ipynb',\n",
              " 'u5_한글형태소분석.ipynb',\n",
              " 'u4_회귀분석_항공사승객예측.ipynb',\n",
              " 'u7_자전거대여예측.ipynb',\n",
              " 'u6_MNIST_기본(Tut).ipynb',\n",
              " 'u6_딥러닝개요(HVA).ipynb',\n",
              " 'u5_텍스트분석기초(mg_7).ipynb',\n",
              " 'u7_Kaggle소개.ipynb',\n",
              " 'v1-3Numpy-practice-sol.ipynb',\n",
              " 'gg-데이터로드.ipynb',\n",
              " 'u5_텍스트분석응용-2.ipynb',\n",
              " 'v1-4-Pandas.ipynb',\n",
              " 'u7_항공지연예측.ipynb',\n",
              " 'v1-3파이선-어레이.ipynb',\n",
              " 'u3_모델성능평가(mg_5)-Copy1.ipynb',\n",
              " 'w2-Numpy.ipynb',\n",
              " 'u6_cat_vs_dog.ipynb',\n",
              " 'u3_로지스틱회귀_유방암.ipynb',\n",
              " 'u7_항공지연예측_2.ipynb',\n",
              " 'u5_Word2Vec.ipynb',\n",
              " 'v1-5-data-frame.ipynb',\n",
              " 'test.txt',\n",
              " '.ipynb_checkpoints',\n",
              " 'u2_시각화기법_상세.ipynb',\n",
              " 'u7_MNIST_1.ipynb',\n",
              " 'u2_데이터전처리_상세.ipynb',\n",
              " 'u3_로지스틱_유방암(NYU).ipynb',\n",
              " 'v1-3Numpy.ipynb',\n",
              " 'u6_텐서플로시작(Tut).ipynb',\n",
              " 'u3_선형회귀분석예제_국제항공사승객.ipynb',\n",
              " 'w4-EDA.ipynb',\n",
              " 'u2_웹페이지전체다운로드.ipynb',\n",
              " 'u2_데이터로드_DB.ipynb',\n",
              " 'u7_병원예약_나이브베이어스.ipynb',\n",
              " 'data',\n",
              " 'u7_자전거대여예측_시각화.ipynb',\n",
              " 'tmp',\n",
              " 'v3-2지도학습-선형회귀(mg2).ipynb',\n",
              " 'u2_웹API.ipynb',\n",
              " 'u5_영화평가_영어.ipynb',\n",
              " 'u6_이미지넷_기초(Tut).ipynb',\n",
              " 'taxi.zip',\n",
              " 'mglearn',\n",
              " 'v1-6데이터프레임-고급 (유니코드 인코딩 충돌).ipynb',\n",
              " 'tree.dot',\n",
              " 'u3_모델성능평가(mg_5).ipynb']"
            ]
          },
          "metadata": {
            "tags": []
          },
          "execution_count": 54
        }
      ]
    },
    {
      "metadata": {
        "id": "K4f0CnkymQmI",
        "colab_type": "code",
        "colab": {}
      },
      "cell_type": "code",
      "source": [
        ""
      ],
      "execution_count": 0,
      "outputs": []
    },
    {
      "metadata": {
        "id": "6g1rDoMCmQmK",
        "colab_type": "code",
        "colab": {}
      },
      "cell_type": "code",
      "source": [
        ""
      ],
      "execution_count": 0,
      "outputs": []
    },
    {
      "metadata": {
        "id": "IcarNqs6mQmM",
        "colab_type": "code",
        "colab": {}
      },
      "cell_type": "code",
      "source": [
        "import json"
      ],
      "execution_count": 0,
      "outputs": []
    },
    {
      "metadata": {
        "id": "1-kw6hklmQmO",
        "colab_type": "code",
        "colab": {}
      },
      "cell_type": "code",
      "source": [
        "# json은 python에서처럼 '으로 하면 안된다. 현재 \"\"\"로 감싸 문자열로 저장되어 있기 때문에 \n",
        "# javascript에서는 '를 string 값으로 인식하지 않아서 에러 발생\n",
        "obj = \"\"\"\n",
        "{\n",
        "    \"name\": \"Kim\",\n",
        "    \"places_lived\": [\"Seoul\", \"Korea\"],\n",
        "    \"pet\": null, \"siblings\": [{\"name\": \"Scott\", \"age\":25, \"pet\":\"Zuko\"}]\n",
        "}\n",
        "\"\"\""
      ],
      "execution_count": 0,
      "outputs": []
    },
    {
      "metadata": {
        "id": "YQXpyh1-mQmR",
        "colab_type": "code",
        "outputId": "ed0ac60a-029e-4c85-c265-4470ee90233c",
        "colab": {}
      },
      "cell_type": "code",
      "source": [
        "result = json.loads(obj)\n",
        "result"
      ],
      "execution_count": 0,
      "outputs": [
        {
          "output_type": "execute_result",
          "data": {
            "text/plain": [
              "{'name': 'Kim',\n",
              " 'places_lived': ['Seoul', 'Korea'],\n",
              " 'pet': None,\n",
              " 'siblings': [{'name': 'Scott', 'age': 25, 'pet': 'Zuko'}]}"
            ]
          },
          "metadata": {
            "tags": []
          },
          "execution_count": 52
        }
      ]
    },
    {
      "metadata": {
        "id": "80KzHXyQmQmX",
        "colab_type": "code",
        "outputId": "95b1f101-934e-4295-c7c8-73b8d1bba773",
        "colab": {}
      },
      "cell_type": "code",
      "source": [
        "asjson = json.dumps(result)\n",
        "asjson"
      ],
      "execution_count": 0,
      "outputs": [
        {
          "output_type": "execute_result",
          "data": {
            "text/plain": [
              "'{\"name\": \"Kim\", \"places_lived\": [\"Seoul\", \"Korea\"], \"pet\": null, \"siblings\": [{\"name\": \"Scott\", \"age\": 25, \"pet\": \"Zuko\"}]}'"
            ]
          },
          "metadata": {
            "tags": []
          },
          "execution_count": 53
        }
      ]
    },
    {
      "metadata": {
        "id": "7chlPaaUmQmc",
        "colab_type": "code",
        "colab": {}
      },
      "cell_type": "code",
      "source": [
        ""
      ],
      "execution_count": 0,
      "outputs": []
    }
  ]
}